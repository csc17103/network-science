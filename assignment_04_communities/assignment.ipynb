{
 "cells": [
  {
   "cell_type": "markdown",
   "id": "0a5cada0",
   "metadata": {},
   "source": [
    "# Assignment — Network communities"
   ]
  },
  {
   "cell_type": "code",
   "execution_count": null,
   "id": "22e7c041",
   "metadata": {},
   "outputs": [],
   "source": [
    "from sklearn.cluster import KMeans\n",
    "from sklearn import datasets\n",
    "from zlib import adler32\n",
    "from IPython.display import clear_output\n",
    "import matplotlib.pyplot as plt\n",
    "from scipy.cluster.hierarchy import dendrogram, linkage\n",
    "from sklearn.cluster import AgglomerativeClustering\n",
    "import numpy as np\n",
    "import pandas as pd\n",
    "import requests\n",
    "from scipy.spatial.distance import squareform\n",
    "import networkx as nx\n",
    "import seaborn as sns"
   ]
  },
  {
   "cell_type": "markdown",
   "id": "17b014d5",
   "metadata": {},
   "source": [
    "### Les Miserables graph"
   ]
  },
  {
   "cell_type": "markdown",
   "id": "85eab9d9",
   "metadata": {},
   "source": [
    "Let us try to detect communities in Les Miserables graph."
   ]
  },
  {
   "cell_type": "code",
   "execution_count": null,
   "id": "20cdc5fb",
   "metadata": {},
   "outputs": [],
   "source": [
    "lesG = nx.Graph(nx.les_miserables_graph().edges)\n",
    "lesG = nx.convert_node_labels_to_integers(lesG)\n",
    "lespos = nx.kamada_kawai_layout(lesG)\n",
    "plt.figure(figsize=(8, 8))\n",
    "nx.draw_networkx_nodes(lesG, lespos, node_color='white', edgecolors='black', node_size=100)\n",
    "nx.draw_networkx_edges(lesG, lespos, alpha=0.3)\n",
    "plt.axis('off')\n",
    "plt.show()"
   ]
  },
  {
   "cell_type": "markdown",
   "id": "7fd5c8a6",
   "metadata": {},
   "source": [
    "### Task 1. Girvan-Newman algorithm (0 points)"
   ]
  },
  {
   "cell_type": "markdown",
   "id": "b8cadb33",
   "metadata": {},
   "source": [
    "Let us apply Girvan-Newman algorithm with edge betweenness. The simple idea is to cut edges with highest betweenness (bridges) forming connected components."
   ]
  },
  {
   "cell_type": "code",
   "execution_count": null,
   "id": "7dcb1b3e",
   "metadata": {
    "deletable": false,
    "editable": false,
    "nbgrader": {
     "cell_type": "code",
     "checksum": "8e49ef3dba361269d0ba6996b12d1de1",
     "grade": false,
     "grade_id": "cell-d871f77dcf06fa15",
     "locked": true,
     "schema_version": 3,
     "solution": false,
     "task": false
    }
   },
   "outputs": [],
   "source": [
    "def girvan_newman(G, n):\n",
    "    labels = np.zeros((n, len(G)))\n",
    "    _G = G.copy()\n",
    "    for division in range(n):\n",
    "        remove_bridges(_G)\n",
    "        for i, cc in enumerate(nx.connected_components(_G)):\n",
    "            labels[division, list(cc)] = i\n",
    "    return labels"
   ]
  },
  {
   "cell_type": "markdown",
   "id": "8390d821",
   "metadata": {},
   "source": [
    "Write a function `remove_bridges` that takes a graph and remove bridges until a connected component appears.\n",
    "\n",
    "*Hint: use `nx.edge_betweenness` to calculate edge betweenness.*"
   ]
  },
  {
   "cell_type": "code",
   "execution_count": null,
   "id": "70861269",
   "metadata": {
    "deletable": false,
    "nbgrader": {
     "cell_type": "code",
     "checksum": "422122de588117bec4f03fbdd0104a89",
     "grade": false,
     "grade_id": "cell-e8d484e578f29254",
     "locked": false,
     "schema_version": 3,
     "solution": true,
     "task": false
    }
   },
   "outputs": [],
   "source": [
    "def remove_bridges(G):\n",
    "    # YOUR CODE HERE\n",
    "    raise NotImplementedError()"
   ]
  },
  {
   "cell_type": "code",
   "execution_count": null,
   "id": "d04545c9",
   "metadata": {
    "deletable": false,
    "editable": false,
    "nbgrader": {
     "cell_type": "code",
     "checksum": "bda57450132f959c116a7601dc446c9c",
     "grade": true,
     "grade_id": "cell-8dd9a36b0d20c57d",
     "locked": true,
     "points": 0.0,
     "schema_version": 3,
     "solution": false,
     "task": false
    }
   },
   "outputs": [],
   "source": [
    "labels = girvan_newman(lesG, 6)\n",
    "assert labels.shape == (6, 77)\n",
    "assert np.unique(labels[0]).shape == (2,)\n",
    "assert np.unique(labels[0]).shape[0] < np.unique(labels[1]).shape[0] < np.unique(labels[5]).shape[0]\n",
    "assert labels[5][22] == labels[5][23]\n",
    "assert labels[5][31] == labels[5][34]"
   ]
  },
  {
   "cell_type": "markdown",
   "id": "41714b40",
   "metadata": {},
   "source": [
    "Let us draw Girvan Newman algorithm step-by-step."
   ]
  },
  {
   "cell_type": "code",
   "execution_count": null,
   "id": "efd8b972",
   "metadata": {},
   "outputs": [],
   "source": [
    "plt.figure(figsize=(7*2, 7*3))\n",
    "for i in range(labels.shape[0]):\n",
    "    plt.subplot(3, 2, i+1)\n",
    "    nx.draw_networkx_nodes(\n",
    "        lesG, \n",
    "        lespos,\n",
    "        cmap=plt.cm.rainbow,\n",
    "        node_color=labels[i], \n",
    "        node_size=100, \n",
    "        edgecolors='black'\n",
    "    )\n",
    "    nx.draw_networkx_edges(lesG, lespos, alpha=0.3)\n",
    "    plt.title('Edge betweenness, {} communities'.format(i+2))\n",
    "    plt.axis('off')"
   ]
  },
  {
   "cell_type": "markdown",
   "id": "5cf4571a",
   "metadata": {},
   "source": [
    "### Task 2. Modularity (0 points)"
   ]
  },
  {
   "cell_type": "markdown",
   "id": "b2e7f3f0",
   "metadata": {},
   "source": [
    "One of the best-known methods for community detection is called modularity. \n",
    "\n",
    "$$M = \\frac{1}{2m}\\sum_{ij} \\left( A_{ij} - \\frac{k_ik_j}{2m} \\right) \\delta(c_i, c_j)$$\n",
    "\n",
    "where $m$ is the number of edges and $\\delta(c_i, c_j)$ is Kronecker delta, it is equal 1 if nodes belong to the same community and 0 otherwise. Modularity is based on expected number of edges between nodes in Configuration model\n",
    "\n",
    "\n",
    "$$\\frac{k_ik_j}{2m-1} \\approx \\frac{k_ik_j}{2m}$$\n",
    "\n",
    "<img src='http://networksciencebook.com/images/ch-04/figure-4-15.jpg' width=400>\n",
    "\n",
    "Indeed, $k_i$ stubs can be connected to $k_j$ stubs between nodes $i$ and $j$ and there are $2m - 1$ ways to connect a stub for any other stub that can be approximated by $2m$ in a large network. That is, modularity measures the difference between expected number of edges and actual number of edges between nodes — the large modularity, the better partitioning. Let us implement modularity calculation.\n",
    "\n",
    "`modularity` function takes an adjacency matrix and list of lists of nodes that belong to the same community and returns modularity score."
   ]
  },
  {
   "cell_type": "code",
   "execution_count": null,
   "id": "724ede6c",
   "metadata": {
    "deletable": false,
    "editable": false,
    "nbgrader": {
     "cell_type": "code",
     "checksum": "63ece173186539ff40fdc582d5e693bd",
     "grade": false,
     "grade_id": "cell-cf4dfd6ca481fa61",
     "locked": true,
     "schema_version": 3,
     "solution": false,
     "task": false
    }
   },
   "outputs": [],
   "source": [
    "def modularity(A, communities):\n",
    "    m = A.sum() / 2\n",
    "    res = (A - expected_edges(A, m)) * kronecker(A, communities)\n",
    "    return res.sum() / 2 / m"
   ]
  },
  {
   "cell_type": "markdown",
   "id": "4f07c043",
   "metadata": {},
   "source": [
    "Write a function `expected_edges` that takes an adjacency matrix and number of edges `m` and returns a np.array with expected number of edges."
   ]
  },
  {
   "cell_type": "code",
   "execution_count": null,
   "id": "e6f11a84",
   "metadata": {
    "deletable": false,
    "nbgrader": {
     "cell_type": "code",
     "checksum": "2733eb3387e2ded966624088b7ed64c4",
     "grade": false,
     "grade_id": "cell-1aea2384fb374860",
     "locked": false,
     "schema_version": 3,
     "solution": true,
     "task": false
    }
   },
   "outputs": [],
   "source": [
    "def expected_edges(A, m):\n",
    "    # YOUR CODE HERE\n",
    "    raise NotImplementedError()"
   ]
  },
  {
   "cell_type": "code",
   "execution_count": null,
   "id": "979d05d8",
   "metadata": {
    "deletable": false,
    "editable": false,
    "nbgrader": {
     "cell_type": "code",
     "checksum": "0e93a979ce8b520e2b931162a2fae37f",
     "grade": true,
     "grade_id": "cell-ed2bf38f8dbbf57a",
     "locked": true,
     "points": 0.0,
     "schema_version": 3,
     "solution": false,
     "task": false
    }
   },
   "outputs": [],
   "source": [
    "A = nx.to_numpy_array(lesG)\n",
    "m = lesG.number_of_edges()\n",
    "ee = expected_edges(A, m)\n",
    "assert ee.shape == A.shape\n",
    "assert np.all(0 <= ee)\n",
    "assert round(ee[10, 10], 2) == round(lesG.degree[10] * lesG.degree[10] / 2 / m, 2)"
   ]
  },
  {
   "cell_type": "markdown",
   "id": "1ff78cf5",
   "metadata": {},
   "source": [
    "Write a function `kronecked` that takes an adjacency matrix and list of lists of nodes that belong to the same community and returns a np.array with Kronecked delta."
   ]
  },
  {
   "cell_type": "code",
   "execution_count": null,
   "id": "dea04efd",
   "metadata": {
    "deletable": false,
    "nbgrader": {
     "cell_type": "code",
     "checksum": "e41fd91596e92ef39c297288ab6097c7",
     "grade": false,
     "grade_id": "cell-7eacdaeaeba013ce",
     "locked": false,
     "schema_version": 3,
     "solution": true,
     "task": false
    }
   },
   "outputs": [],
   "source": [
    "def kronecker(A, communities):\n",
    "    # YOUR CODE HERE\n",
    "    raise NotImplementedError()"
   ]
  },
  {
   "cell_type": "code",
   "execution_count": null,
   "id": "3b5716f8",
   "metadata": {
    "deletable": false,
    "editable": false,
    "nbgrader": {
     "cell_type": "code",
     "checksum": "2e0564d84f538d8efb4299945a73f9a4",
     "grade": true,
     "grade_id": "cell-5d7810bc8586396a",
     "locked": true,
     "points": 0.0,
     "schema_version": 3,
     "solution": false,
     "task": false
    }
   },
   "outputs": [],
   "source": [
    "A = nx.to_numpy_array(lesG)\n",
    "communities = [np.arange(0, 10), np.arange(10, len(lesG))]\n",
    "kd = kronecker(A, communities)\n",
    "assert kd.shape == A.shape\n",
    "assert kd[0, 9] == 1 and kd[10, 11] == 1\n",
    "assert kd[0, 10] == 0"
   ]
  },
  {
   "cell_type": "markdown",
   "id": "4e06ee9d",
   "metadata": {},
   "source": [
    "Write a function `edge_betw_modularity` that takes a graph, number of iterations of Girvan Newman algorithm and returns a np.array with modularity after each iteration."
   ]
  },
  {
   "cell_type": "code",
   "execution_count": null,
   "id": "56057a6c",
   "metadata": {
    "deletable": false,
    "nbgrader": {
     "cell_type": "code",
     "checksum": "17263e09aceb2cdcd822a6ba9d1e8a83",
     "grade": false,
     "grade_id": "cell-9f7fb2b1efbb7ba5",
     "locked": false,
     "schema_version": 3,
     "solution": true,
     "task": false
    }
   },
   "outputs": [],
   "source": [
    "def edge_betw_modularity(G, n):\n",
    "    # YOUR CODE HERE\n",
    "    raise NotImplementedError()"
   ]
  },
  {
   "cell_type": "code",
   "execution_count": null,
   "id": "f945b735",
   "metadata": {
    "deletable": false,
    "editable": false,
    "nbgrader": {
     "cell_type": "code",
     "checksum": "185c8b03b342234a2b3e588d5bac300b",
     "grade": true,
     "grade_id": "cell-8701bf83b9020f57",
     "locked": true,
     "points": 0.0,
     "schema_version": 3,
     "solution": false,
     "task": false
    }
   },
   "outputs": [],
   "source": [
    "n_iterations = 20\n",
    "mod_val = edge_betw_modularity(lesG, n_iterations)\n",
    "assert mod_val.shape == (n_iterations, )\n",
    "assert round(mod_val[0], 4) == 0.0746\n",
    "assert round(mod_val[7], 4) == 0.4519"
   ]
  },
  {
   "cell_type": "markdown",
   "id": "87df1f94",
   "metadata": {},
   "source": [
    "Let us draw dependency between a number of iteration and modularity."
   ]
  },
  {
   "cell_type": "code",
   "execution_count": null,
   "id": "e7a36006",
   "metadata": {},
   "outputs": [],
   "source": [
    "plt.figure(figsize=(6, 4))\n",
    "plt.plot(np.arange(n_iterations)+2, mod_val)\n",
    "best_n = np.argmax(mod_val) + 2\n",
    "label = 'number of communities with max modularity {:.2f}'.format(max(mod_val))\n",
    "plt.plot(\n",
    "    [best_n, best_n], [min(mod_val), max(mod_val)], \n",
    "    linestyle='--', c='tab:red', \n",
    "    label=label\n",
    ")\n",
    "plt.ylabel('Modularity score')\n",
    "plt.xlabel('Number of communities')\n",
    "plt.legend(loc='upper left')\n",
    "plt.xticks(np.arange(n_iterations)+2)\n",
    "plt.ylim((mod_val.min(), 0.6))\n",
    "plt.show()"
   ]
  },
  {
   "cell_type": "markdown",
   "id": "fc9e3efe",
   "metadata": {},
   "source": [
    "### Task 3. Louvain method (4 points)"
   ]
  },
  {
   "cell_type": "markdown",
   "id": "c8810263",
   "metadata": {},
   "source": [
    "Louvain method is one of the mostcited works in the community detection literature. It is a heuristic method based on modularity optimization for extracting the community structure of large networks. Let us consider this method on a ring of cliques."
   ]
  },
  {
   "cell_type": "code",
   "execution_count": null,
   "id": "bc5ce4aa",
   "metadata": {
    "deletable": false,
    "editable": false,
    "nbgrader": {
     "cell_type": "code",
     "checksum": "cac0ba09f543db93cd3f0d7a2c36ec7f",
     "grade": false,
     "grade_id": "cell-5de8f1ada2d8a140",
     "locked": true,
     "schema_version": 3,
     "solution": false,
     "task": false
    }
   },
   "outputs": [],
   "source": [
    "def ring_of_cliques(csize, n):\n",
    "    cliques = []\n",
    "    for _ in range(n):\n",
    "        cliques.append(nx.complete_graph(csize))\n",
    "    G = nx.disjoint_union_all(cliques)\n",
    "    for i in range(n):\n",
    "        node_i = i * csize\n",
    "        node_j = ((i + 1) * csize + 1) % (csize * n)\n",
    "        G.add_edge(node_i, node_j)\n",
    "    return G"
   ]
  },
  {
   "cell_type": "code",
   "execution_count": null,
   "id": "9ff38ae5",
   "metadata": {},
   "outputs": [],
   "source": [
    "ringG = ring_of_cliques(csize=5, n=30)\n",
    "\n",
    "plt.figure(figsize=(7, 7))\n",
    "pos = nx.kamada_kawai_layout(ringG)\n",
    "nx.draw_networkx_nodes(ringG, pos, node_color='white', \n",
    "                       edgecolors='black', node_size=50)\n",
    "nx.draw_networkx_edges(ringG, pos, alpha=0.5)\n",
    "plt.axis('off')\n",
    "plt.show()"
   ]
  },
  {
   "cell_type": "markdown",
   "id": "919b4c08",
   "metadata": {},
   "source": [
    "Let us compute expected number of edges for modularity calculation\n",
    "$$e_{ij} = \\frac{k_ik_j}{2m}$$\n",
    "where $k_i$ is a degree of the node i and $m$ is the number of edges in a graph.\n",
    "\n",
    "Write a function `expected_edges` that takes an adjacency matrix and number of edges `m` and returns a np.array with expected number of edges."
   ]
  },
  {
   "cell_type": "code",
   "execution_count": null,
   "id": "e1e1b00a",
   "metadata": {
    "deletable": false,
    "nbgrader": {
     "cell_type": "code",
     "checksum": "34e62e5f387087a027fa2e9edee44521",
     "grade": false,
     "grade_id": "cell-018561fe933d8150",
     "locked": false,
     "schema_version": 3,
     "solution": true,
     "task": false
    }
   },
   "outputs": [],
   "source": [
    "def expected_edges(A, m):\n",
    "    # YOUR CODE HERE\n",
    "    raise NotImplementedError()"
   ]
  },
  {
   "cell_type": "code",
   "execution_count": null,
   "id": "b934126f",
   "metadata": {
    "deletable": false,
    "editable": false,
    "nbgrader": {
     "cell_type": "code",
     "checksum": "a99bb91e9bbb50cf16dbc1389934f02e",
     "grade": true,
     "grade_id": "cell-8368dcbd59198e4e",
     "locked": true,
     "points": 1.33,
     "schema_version": 3,
     "solution": false,
     "task": false
    }
   },
   "outputs": [],
   "source": [
    "A = nx.to_numpy_array(ringG)\n",
    "m = ringG.number_of_edges()\n",
    "ee = expected_edges(A, m)\n",
    "assert ee.shape == A.shape\n",
    "assert np.all(0 <= ee)\n",
    "assert round(ee[10, 10], 2) == round(ringG.degree[10] * ringG.degree[10] / 2 / m, 2)"
   ]
  },
  {
   "cell_type": "markdown",
   "id": "9bb6de63",
   "metadata": {},
   "source": [
    "Modularity helps to select a community that a node should belong to. Note that calculating the modularity costs $O(n^2)$, instead we can calculate *modularity gain* for $O(n)$. Consider community $c_\\text{old}$ with a node $i$ and a community $c_\\text{new}$ without a node $i$. The modularity gain is the change of modularity if we move a node $i$ from community $c_\\text{old}$ into community $c_\\text{new}$\n",
    "\n",
    "$$\\Delta M_i = \\frac{1}{m}\\left[ \\sum_{j\\in c_\\text{new}} \\left( A_{ij} - e_{ij} \\right) - \\sum_{j\\in c_\\text{old} \\setminus \\{i\\}} \\left( A_{ij} - e_{ij} \\right) \\right] $$\n",
    "\n",
    "Write a function `modularity_gain` that takes an adjacency matrix `A`, expected edges `ee`, a moving node `mnode`, initial community `old_comm`, new community `new_comm` and number of edges `m`. It returns modularity gain. For simplicity, assume initial community does not contain a moving node."
   ]
  },
  {
   "cell_type": "code",
   "execution_count": null,
   "id": "9979d8e4",
   "metadata": {
    "deletable": false,
    "nbgrader": {
     "cell_type": "code",
     "checksum": "af8b35c028a7500626424d05268fb577",
     "grade": false,
     "grade_id": "cell-df5467b9e50c9509",
     "locked": false,
     "schema_version": 3,
     "solution": true,
     "task": false
    }
   },
   "outputs": [],
   "source": [
    "def modularity_gain(A, ee, mnode, old_comm, new_comm, m):\n",
    "    # YOUR CODE HERE\n",
    "    raise NotImplementedError()"
   ]
  },
  {
   "cell_type": "code",
   "execution_count": null,
   "id": "1e375062",
   "metadata": {
    "deletable": false,
    "editable": false,
    "nbgrader": {
     "cell_type": "code",
     "checksum": "4c1e745ba8cd716610fbe4e16de63295",
     "grade": true,
     "grade_id": "cell-ecc43252e23df71e",
     "locked": true,
     "points": 1.33,
     "schema_version": 3,
     "solution": false,
     "task": false
    }
   },
   "outputs": [],
   "source": [
    "G = nx.complete_graph(6)\n",
    "m1 = nx.algorithms.community.modularity(G, [[0, 1, 2], [3, 4, 5]])\n",
    "m2 = nx.algorithms.community.modularity(G, [[0, 1], [2, 3, 4, 5]])\n",
    "nx_gain = m2 - m1\n",
    "nx_mod = nx.algorithms.community.modularity\n",
    "del nx.algorithms.community.modularity\n",
    "try:\n",
    "    A = nx.to_numpy_array(G)\n",
    "    m = G.number_of_edges()\n",
    "    ee = expected_edges(A, m)\n",
    "    gain = modularity_gain(A, ee, 2, [0, 1], [3, 4, 5], m)\n",
    "except:\n",
    "    raise AssertionError('networkx modularity usage')\n",
    "finally:\n",
    "    nx.algorithms.community.modularity = nx_mod\n",
    "    del nx_mod\n",
    "assert np.isclose(nx_gain, gain)"
   ]
  },
  {
   "cell_type": "markdown",
   "id": "33348412",
   "metadata": {},
   "source": [
    "Louvain method\n",
    "\n",
    "Phase 1: community unfolding\n",
    "1. Put each node in its own community\n",
    "2. For every node, calculate modularity gain and move it to the community with maximal modularity gain\n",
    "3. Repeat until modularity stops increasing\n",
    "\n",
    "Phase 2: network aggregation\n",
    "1. Merge communities into ”super nodes”\n",
    "2. Convert edges inside community into self loop, edges between communities into parallel edges\n",
    "\n",
    "Repeat phases 1, 2 until modularity stops increasing."
   ]
  },
  {
   "cell_type": "code",
   "execution_count": null,
   "id": "ff2af437",
   "metadata": {
    "deletable": false,
    "editable": false,
    "nbgrader": {
     "cell_type": "code",
     "checksum": "ef3a1efd628149a281eeb9010f3b8c05",
     "grade": false,
     "grade_id": "cell-21599c44baefbf81",
     "locked": true,
     "schema_version": 3,
     "solution": false,
     "task": false
    }
   },
   "outputs": [],
   "source": [
    "def louvain_method(G):\n",
    "    \n",
    "    # Phase 1: community unfolding\n",
    "    communities = unfolded_communities(G)\n",
    "\n",
    "    # Create labels\n",
    "    labels = np.zeros(len(G))\n",
    "    for i, c in enumerate(communities):\n",
    "        labels[c] = i\n",
    "    \n",
    "    # Phase 2: network aggregation\n",
    "    nextG = nx.empty_graph(len(communities), nx.MultiGraph)\n",
    "    for e in G.edges:\n",
    "        nextG.add_edge(labels[int(e[0])], labels[int(e[1])])\n",
    "       \n",
    "    return communities, labels, nextG"
   ]
  },
  {
   "cell_type": "markdown",
   "id": "0fa59923",
   "metadata": {},
   "source": [
    "Write a function `unfolded_communities` that takes a graph, performs Phase 1 and returns list of communities with nodes. For example, if there are two communitites: the first is [1,2] and the second is [3,4,5] then the output will be [[1,2],[3,4,5]]."
   ]
  },
  {
   "cell_type": "code",
   "execution_count": null,
   "id": "bd36c43b",
   "metadata": {
    "deletable": false,
    "nbgrader": {
     "cell_type": "code",
     "checksum": "0182d85c1ad39019c4719a6b4a59bb07",
     "grade": false,
     "grade_id": "cell-fa81e37b363ca9d3",
     "locked": false,
     "schema_version": 3,
     "solution": true,
     "task": false
    }
   },
   "outputs": [],
   "source": [
    "def unfolded_communities(G):\n",
    "    # Proposed template:\n",
    "    A = nx.to_numpy_array(G)\n",
    "    m = A.sum() / 2\n",
    "    ee = expected_edges(A, m)\n",
    "    communities = [[n] for n in G.nodes] # initial partition\n",
    "    max_modularity_gain = 1\n",
    "    while max_modularity_gain > 0:\n",
    "        for node in G.nodes:\n",
    "            '''\n",
    "            1) Remove the node from the initial community.\n",
    "            2) Iterate all neighboring communities and put a node \n",
    "               in the community with maximal modularity gain. If \n",
    "               there is no modularity gain, return the node into \n",
    "               the initial community.\n",
    "            '''\n",
    "            # YOUR CODE HERE\n",
    "            raise NotImplementedError()\n",
    "    return [c for c in communities if len(c)]"
   ]
  },
  {
   "cell_type": "code",
   "execution_count": null,
   "id": "4dd66c89",
   "metadata": {
    "deletable": false,
    "editable": false,
    "nbgrader": {
     "cell_type": "code",
     "checksum": "6d6231406100329a05d4c21d52c71475",
     "grade": true,
     "grade_id": "cell-fb6cb3a4447ea08c",
     "locked": true,
     "points": 1.3399999999999999,
     "schema_version": 3,
     "solution": false,
     "task": false
    }
   },
   "outputs": [],
   "source": [
    "ringG = ring_of_cliques(csize=5, n=30)\n",
    "iterG = ringG.copy()\n",
    "communities, labels, iterG = louvain_method(iterG)\n",
    "assert len(set(labels)) == 30\n",
    "assert len(set(labels[0:5])) == 1\n",
    "assert len(set(labels[5:15])) == 2\n",
    "assert iterG.number_of_nodes() == 30\n",
    "for _ in range(2):\n",
    "    communities, labels, iterG = louvain_method(iterG)\n",
    "assert round(nx.algorithms.community.modularity(iterG, communities), 3) == 0.888"
   ]
  },
  {
   "cell_type": "markdown",
   "id": "51a917d3",
   "metadata": {},
   "source": [
    "Let us see unfolding iterations. For every iteration we draw a graph where node color corresponds to the unfolded community."
   ]
  },
  {
   "cell_type": "code",
   "execution_count": null,
   "id": "b0fbc7da",
   "metadata": {},
   "outputs": [],
   "source": [
    "ringG = ring_of_cliques(csize=5, n=30)\n",
    "iterG = ringG.copy()\n",
    "plt.figure(figsize=(7, 8*3))\n",
    "for i in range(3):\n",
    "    plt.subplot(3, 1, i+1)\n",
    "    communities, labels, nextG = louvain_method(iterG)\n",
    "    # Shuffle label names for better visualization\n",
    "    palette = np.unique(labels)\n",
    "    key = np.random.permutation(palette)\n",
    "    labels = key[np.digitize(labels, palette, right=True)]\n",
    "    iter_pos = nx.kamada_kawai_layout(iterG)\n",
    "    degree = np.array([d for n, d in iterG.degree])\n",
    "    nodes = nx.draw_networkx_nodes(\n",
    "        iterG,\n",
    "        iter_pos,\n",
    "        cmap=plt.cm.rainbow,\n",
    "        node_color=labels,\n",
    "        edgecolors='black',\n",
    "        node_size=10*degree\n",
    "    )\n",
    "    _iterG = iterG.copy()\n",
    "    _iterG.remove_edges_from(nx.selfloop_edges(iterG))\n",
    "    nx.draw_networkx_edges(_iterG, iter_pos, alpha=0.5)\n",
    "    plt.axis('off')\n",
    "    plt.title(\n",
    "        '{} nodes, {} communities \\nModularity {:.3f}'.format(\n",
    "            len(iterG), len(communities), nx.community.modularity(iterG, communities)))\n",
    "    iterG = nextG"
   ]
  },
  {
   "cell_type": "markdown",
   "id": "fca641d9",
   "metadata": {},
   "source": [
    "Communities in Les Miserables graph"
   ]
  },
  {
   "cell_type": "code",
   "execution_count": null,
   "id": "1b8bc589",
   "metadata": {},
   "outputs": [],
   "source": [
    "iterG = lesG.copy()\n",
    "prev_comm, labels, iterG = louvain_method(iterG)\n",
    "for i in range(2):\n",
    "    next_comm, labels, iterG = louvain_method(iterG)\n",
    "    communities = []\n",
    "    for c in next_comm:\n",
    "        temp = []\n",
    "        for node in c:\n",
    "            temp.extend(prev_comm[node])\n",
    "        communities.append(temp)\n",
    "    prev_comm = communities.copy()\n",
    "labels = np.zeros(len(lesG))\n",
    "for i, c in enumerate(communities):\n",
    "    labels[c] = i"
   ]
  },
  {
   "cell_type": "code",
   "execution_count": null,
   "id": "bd095bfe",
   "metadata": {},
   "outputs": [],
   "source": [
    "plt.figure(figsize=(8, 8))\n",
    "nx.draw_networkx_nodes(\n",
    "    lesG, \n",
    "    lespos,\n",
    "    cmap=plt.cm.rainbow,\n",
    "    node_color=labels, \n",
    "    node_size=100, \n",
    "    edgecolors='black'\n",
    ")\n",
    "nx.draw_networkx_edges(lesG, lespos, alpha=0.3)\n",
    "plt.title(\n",
    "    '{} communities\\nModularity {:.3f}'.format(\n",
    "        len(communities), \n",
    "        nx.community.modularity(lesG, communities)\n",
    "    )\n",
    ")\n",
    "plt.axis('off');"
   ]
  },
  {
   "cell_type": "markdown",
   "id": "f97b6850",
   "metadata": {},
   "source": [
    "### Task 4. Label propagation for clustering (3 points)"
   ]
  },
  {
   "cell_type": "markdown",
   "id": "1a21025e",
   "metadata": {},
   "source": [
    "Among all the community detection techniques, label propagation is neither the most accurate nor the most robust method. It is, however, without doubt one of the simplest and fastest clustering methods. The label propagation method is based on the simple idea: every node is initialized with a unique label and at every step each node adopts the label that most of its neighbors currently have.\n",
    "\n",
    "Write a function `update_labels` that takes a graph, np.array with labels in order `graph.nodes` and returns new labels. Label of the node is the random label occurring with the highest frequency among neighbors. At every iteration of label propagation, all nodes update their labels simultaneously (synchronous propagation)."
   ]
  },
  {
   "cell_type": "code",
   "execution_count": null,
   "id": "172b0619",
   "metadata": {
    "deletable": false,
    "nbgrader": {
     "cell_type": "code",
     "checksum": "7b32034c41beb68fd52a01069052ce81",
     "grade": false,
     "grade_id": "cell-c5b24d3f2a43f307",
     "locked": false,
     "schema_version": 3,
     "solution": true,
     "task": false
    }
   },
   "outputs": [],
   "source": [
    "def sync_update_labels(graph, labels):\n",
    "    # YOUR CODE HERE\n",
    "    raise NotImplementedError()"
   ]
  },
  {
   "cell_type": "code",
   "execution_count": null,
   "id": "36d07e2d",
   "metadata": {
    "deletable": false,
    "editable": false,
    "nbgrader": {
     "cell_type": "code",
     "checksum": "24624a39f2a3f2f03675b799f2f3959c",
     "grade": true,
     "grade_id": "cell-5ffe01098dbcbfbd",
     "locked": true,
     "points": 1.5,
     "schema_version": 3,
     "solution": false,
     "task": false
    }
   },
   "outputs": [],
   "source": [
    "nodes = set()\n",
    "for _ in range(100):\n",
    "    triadeG = nx.Graph([(0, 1), (0, 2)])\n",
    "    labels = np.array(list(triadeG.nodes))\n",
    "    labels = sync_update_labels(triadeG, labels)\n",
    "    nodes = nodes.union(labels)\n",
    "assert set([0, 1, 2]) == nodes # check randomness\n",
    "labels = np.array(list(lesG.nodes)) # initial partition\n",
    "new_labels = sync_update_labels(lesG, labels)\n",
    "assert new_labels.shape == (77, )\n",
    "assert len(set(new_labels)) < len(set(labels))\n",
    "for _ in range(30):\n",
    "    new_labels = sync_update_labels(lesG, new_labels)\n",
    "assert len(set(new_labels)) > 1\n",
    "starG = nx.star_graph(4)\n",
    "labels = np.array(list(starG.nodes)) # initial partition\n",
    "for _ in range(5):\n",
    "    labels = sync_update_labels(starG, labels)\n",
    "new_labels = sync_update_labels(starG, labels)\n",
    "assert len(set(new_labels - labels)) == 2\n",
    "assert np.sum(list(set(new_labels - labels))) == 0"
   ]
  },
  {
   "cell_type": "code",
   "execution_count": null,
   "id": "d03a91ac",
   "metadata": {},
   "outputs": [],
   "source": [
    "def plot_propagation(G, update_method, n=50):\n",
    "    pos=nx.kamada_kawai_layout(G)\n",
    "    labels = np.array(list(G.nodes))\n",
    "    for i in range(n):\n",
    "        clear_output(wait=True)\n",
    "        labels = update_method(G, labels)\n",
    "        plt.figure(figsize=(8, 8))\n",
    "        nx.draw_networkx_nodes(\n",
    "            G, \n",
    "            pos=pos, \n",
    "            node_color=labels, \n",
    "            cmap=plt.cm.rainbow,\n",
    "            node_size=100, \n",
    "            edgecolors='black'\n",
    "        )\n",
    "        nx.draw_networkx_edges(G, pos=pos, alpha=0.2)\n",
    "        plt.axis('off')\n",
    "        plt.title('Iteration {}/{}'.format(i+1, n))\n",
    "        plt.show()"
   ]
  },
  {
   "cell_type": "code",
   "execution_count": null,
   "id": "9d6fd5d7",
   "metadata": {},
   "outputs": [],
   "source": [
    "plot_propagation(lesG, sync_update_labels, 30)"
   ]
  },
  {
   "cell_type": "markdown",
   "id": "e0e03722",
   "metadata": {},
   "source": [
    "Notice that synchronous propagation can lead to oscillations of some labels in the network that are bi-partite or nearly bi-partite in structure. This is especially true in cases where communities take the form of a star graph."
   ]
  },
  {
   "cell_type": "code",
   "execution_count": null,
   "id": "06e442a9",
   "metadata": {},
   "outputs": [],
   "source": [
    "plot_propagation(nx.star_graph(30), sync_update_labels, 10)"
   ]
  },
  {
   "cell_type": "markdown",
   "id": "3f806223",
   "metadata": {},
   "source": [
    "For this reason, most label propagation algorithms implement asynchronous propagation. At every iteration of label propagation, the labels of the nodes are no longer updated all together, but sequentially in some random order, which is different for each iteration. This is in contrast to synchronous propagation, which always considers the labels from the previous iteration. Due to random order of label updates, asynchronous propagation successfully breaks the cyclic oscillations of labels.\n",
    "\n",
    "Write a function `async_update_labels` that makes asynchronous label updating. The order in which all the n nodes in the network are updated is chosen randomly at each iteration."
   ]
  },
  {
   "cell_type": "code",
   "execution_count": null,
   "id": "4fee81ca",
   "metadata": {
    "deletable": false,
    "nbgrader": {
     "cell_type": "code",
     "checksum": "593d69d04a8d304277fdef1df4bba21d",
     "grade": false,
     "grade_id": "cell-416353e8934258da",
     "locked": false,
     "schema_version": 3,
     "solution": true,
     "task": false
    }
   },
   "outputs": [],
   "source": [
    "def async_update_labels(graph, labels):\n",
    "    # YOUR CODE HERE\n",
    "    raise NotImplementedError()"
   ]
  },
  {
   "cell_type": "code",
   "execution_count": null,
   "id": "b5661877",
   "metadata": {
    "deletable": false,
    "editable": false,
    "nbgrader": {
     "cell_type": "code",
     "checksum": "364f8732f0f94fb4c97de1739a22be07",
     "grade": true,
     "grade_id": "cell-c0271cbd0e8116aa",
     "locked": true,
     "points": 1.5,
     "schema_version": 3,
     "solution": false,
     "task": false
    }
   },
   "outputs": [],
   "source": [
    "labels = np.array(list(lesG.nodes)) # initial partition\n",
    "new_labels = async_update_labels(lesG, labels)\n",
    "assert new_labels.shape == (77, )\n",
    "assert len(set(new_labels)) < len(set(labels))\n",
    "labels = np.array(list(starG.nodes)) # initial partition\n",
    "for _ in range(5):\n",
    "    labels = async_update_labels(starG, labels)\n",
    "new_labels = async_update_labels(starG, labels)\n",
    "assert np.all(new_labels - labels == 0)"
   ]
  },
  {
   "cell_type": "code",
   "execution_count": null,
   "id": "95e919a9",
   "metadata": {},
   "outputs": [],
   "source": [
    "plot_propagation(nx.star_graph(30), async_update_labels, 10)"
   ]
  },
  {
   "cell_type": "code",
   "execution_count": null,
   "id": "d46784d1",
   "metadata": {},
   "outputs": [],
   "source": [
    "plot_propagation(lesG, async_update_labels, 30)"
   ]
  },
  {
   "cell_type": "markdown",
   "id": "8bcd405e",
   "metadata": {},
   "source": [
    "### Task 5. Ego-splitting (3 points)"
   ]
  },
  {
   "cell_type": "markdown",
   "id": "df0b55fb",
   "metadata": {},
   "source": [
    "Ego-Splitting is a framework for detecting clusters in complex networks which leverage the local structures known as ego-nets (i.e. the subgraph induced by the neighborhood of each node) to detect overlapping clusters. Ego-splittng is a highly scalable and flexible framework, with provable theoretical guarantees, that reduces the complex overlapping clustering problem to a simpler and more amenable non-overlapping (partitioning) problem."
   ]
  },
  {
   "cell_type": "markdown",
   "id": "ca88e007",
   "metadata": {},
   "source": [
    "Let us consider the algorithm on this small graph."
   ]
  },
  {
   "cell_type": "code",
   "execution_count": null,
   "id": "6afcd794",
   "metadata": {},
   "outputs": [],
   "source": [
    "adjlist = [\n",
    "    'a b c e h g i',\n",
    "    'f b c e h g i',\n",
    "    'b e c',\n",
    "    'g i h',\n",
    "    'e c d',\n",
    "    'c d',\n",
    "    'i h j',\n",
    "    'h j',\n",
    "    'j d k',\n",
    "    'd k'\n",
    "]\n",
    "G = nx.parse_adjlist(adjlist)\n",
    "plt.figure(figsize=(5, 5))\n",
    "pos = nx.kamada_kawai_layout(G)\n",
    "nx.draw_networkx(\n",
    "    G, pos, node_size=400, node_color='lightgray')\n",
    "plt.axis('off');"
   ]
  },
  {
   "cell_type": "markdown",
   "id": "88815ca2",
   "metadata": {},
   "source": [
    "The ego-splitting algorithm processes a graph and outputs a set of clusters as follows:\n",
    "1. For each node we use the local clustering algorithm to partition the ego-net of the node.\n",
    "2. Create a persona graph. Each node in the graph will correspond to $n$ \"personas\" (nodes in persona graph) where $n$ is a number of clusters in node's ego-net.\n",
    "3. Apply the global clustering algorithm."
   ]
  },
  {
   "cell_type": "markdown",
   "id": "fe9eecc4",
   "metadata": {},
   "source": [
    "![](https://raw.githubusercontent.com/netspractice/network-science/main/images/ego_splitting.png)"
   ]
  },
  {
   "cell_type": "code",
   "execution_count": null,
   "id": "dacee912",
   "metadata": {
    "deletable": false,
    "editable": false,
    "nbgrader": {
     "cell_type": "code",
     "checksum": "257c2920d75e96b8040650012f7138ae",
     "grade": false,
     "grade_id": "cell-c6992274eca070b4",
     "locked": true,
     "schema_version": 3,
     "solution": false,
     "task": false
    }
   },
   "outputs": [],
   "source": [
    "def ego_splitting(graph):\n",
    "    ego_nets = generate_ego_nets(graph)\n",
    "    persona_graph = generate_persona_graph(ego_nets)\n",
    "    return persona_clustering(personaG)"
   ]
  },
  {
   "cell_type": "markdown",
   "id": "e040cc8f",
   "metadata": {},
   "source": [
    "Write a function `generate_ego_nets` that takes a graph and returns a dictionary where keys are nodes and values are their ego-nets:\n",
    "\n",
    "`{'a': ego-net of the node a, 'b': ego-net of the node b, ...}`\n",
    "\n",
    "Ego-net *does not* include the ego-node.\n",
    "\n",
    "*Hint: use `nx.ego_graph`*"
   ]
  },
  {
   "cell_type": "code",
   "execution_count": null,
   "id": "d61c68a8",
   "metadata": {
    "deletable": false,
    "nbgrader": {
     "cell_type": "code",
     "checksum": "39a8e88dfed4b923ddb5f9e0b40173f9",
     "grade": false,
     "grade_id": "cell-179c8ceed0004966",
     "locked": false,
     "schema_version": 3,
     "solution": true,
     "task": false
    }
   },
   "outputs": [],
   "source": [
    "def generate_ego_nets(graph):\n",
    "    # YOUR CODE HERE\n",
    "    raise NotImplementedError()"
   ]
  },
  {
   "cell_type": "code",
   "execution_count": null,
   "id": "d75983bf",
   "metadata": {
    "deletable": false,
    "editable": false,
    "nbgrader": {
     "cell_type": "code",
     "checksum": "6a6e7ef3a9b684adb8034c5d9605c9b7",
     "grade": true,
     "grade_id": "cell-e9a468663cd92c49",
     "locked": true,
     "points": 1.5,
     "schema_version": 3,
     "solution": false,
     "task": false
    }
   },
   "outputs": [],
   "source": [
    "ego_nets = generate_ego_nets(G)\n",
    "assert set(ego_nets.keys()) == {'a', 'b', 'c', 'd', 'e', 'f', 'g', 'h', 'i', 'j', 'k'}\n",
    "assert set(ego_nets['d'].nodes) == {'c', 'e', 'j', 'k'}\n",
    "assert set(ego_nets['f'].nodes) == {'b', 'c', 'e', 'g', 'h', 'i'}"
   ]
  },
  {
   "cell_type": "code",
   "execution_count": null,
   "id": "17c29eb5",
   "metadata": {},
   "outputs": [],
   "source": [
    "nx.draw_networkx(ego_nets['f'], pos=nx.kamada_kawai_layout(G), \n",
    "        node_color='lightgray', node_size=400)\n",
    "plt.title('Ego-net of the node f')\n",
    "plt.axis('off')\n",
    "plt.show()"
   ]
  },
  {
   "cell_type": "markdown",
   "id": "06e631f5",
   "metadata": {},
   "source": [
    "Next, we need to split each ego-net using any clustering method. Let it be the simple connected component detection method. "
   ]
  },
  {
   "cell_type": "code",
   "execution_count": null,
   "id": "91a50d34",
   "metadata": {
    "deletable": false,
    "editable": false,
    "nbgrader": {
     "cell_type": "code",
     "checksum": "62cafb7a10d2aa3b7c6c8c8992b05d98",
     "grade": false,
     "grade_id": "cell-95005b99ee9acd1b",
     "locked": true,
     "schema_version": 3,
     "solution": false,
     "task": false
    }
   },
   "outputs": [],
   "source": [
    "def ego_clustering(graph):\n",
    "    return [cc for cc in nx.connected_components(graph)]"
   ]
  },
  {
   "cell_type": "markdown",
   "id": "a67ddf34",
   "metadata": {},
   "source": [
    "Write a function `generate_persona_graph` that takes an ego-net dictionary and returns a persona graph:\n",
    "1. Add a persona into each cluster in an ego-net and link it to each member. If there is more than one cluster then the persona name is the node name + cluster index. For example, if the ego-net `a` has two clusters `[b, c]` and `[d]` then we add peronas `a0, a1` and links `[a0, b]`, `[a0, c]`, `[a1, d]`.\n",
    "2. Union all ego-nets into persona graph. \n",
    "3. Remove extra initial nodes that have personas. For example, if the persona graph has nodes `a`, `a0`, `a1`, then remove the node `a`."
   ]
  },
  {
   "cell_type": "code",
   "execution_count": null,
   "id": "ffa2d1a7",
   "metadata": {
    "deletable": false,
    "nbgrader": {
     "cell_type": "code",
     "checksum": "f3d4d56a1f2f3b4173789e1810601c3c",
     "grade": false,
     "grade_id": "cell-91ff677c8729f5bf",
     "locked": false,
     "schema_version": 3,
     "solution": true,
     "task": false
    }
   },
   "outputs": [],
   "source": [
    "def generate_persona_graph(ego_nets):\n",
    "    # YOUR CODE HERE\n",
    "    raise NotImplementedError()"
   ]
  },
  {
   "cell_type": "code",
   "execution_count": null,
   "id": "dcf0e9f3",
   "metadata": {
    "deletable": false,
    "editable": false,
    "nbgrader": {
     "cell_type": "code",
     "checksum": "272703eb5800b9f982de9beaf914ce5d",
     "grade": true,
     "grade_id": "cell-964d19c73fa2da58",
     "locked": true,
     "points": 1.5,
     "schema_version": 3,
     "solution": false,
     "task": false
    }
   },
   "outputs": [],
   "source": [
    "ego_nets = generate_ego_nets(G)\n",
    "personaG = generate_persona_graph(ego_nets)\n",
    "assert set(personaG.nodes) == {'i', 'f0', 'k', 'c', 'd0', 'a0', 'g', 'j0', 'e', 'h', 'd1', 'a1', 'j1', 'f1', 'b'}\n",
    "assert {i[0] for i in personaG.neighbors('k')} == {'d', 'j'}\n",
    "assert {i[0] for i in personaG.neighbors('g')} == {'a', 'f', 'h', 'i'}"
   ]
  },
  {
   "cell_type": "code",
   "execution_count": null,
   "id": "13525e31",
   "metadata": {},
   "outputs": [],
   "source": [
    "pos = nx.kamada_kawai_layout(G)\n",
    "personapos = {}\n",
    "for node in personaG.nodes:\n",
    "    personapos[node] = pos[node[0]].copy()\n",
    "    if len(node) > 1:\n",
    "        personapos[node][0] += 0.05 if node[1] == '0' else -0.05\n",
    "        personapos[node][1] += 0.05 if node[1] == '0' else -0.05\n",
    "plt.figure(figsize=(5, 5))\n",
    "nx.draw_networkx(personaG, personapos, node_size=300, node_color='lightgray')\n",
    "plt.axis('off');"
   ]
  },
  {
   "cell_type": "markdown",
   "id": "a3c43663",
   "metadata": {},
   "source": [
    "Finally, we need to apply any clustering algorithm for the persona graph. Let it again be the simple connected component detection algorithm. Also, here we remove the cluster indexes from node names."
   ]
  },
  {
   "cell_type": "code",
   "execution_count": null,
   "id": "8d300df6",
   "metadata": {
    "deletable": false,
    "editable": false,
    "nbgrader": {
     "cell_type": "code",
     "checksum": "894e6d81fc031ffe964a8b9d88c16828",
     "grade": false,
     "grade_id": "cell-e1224bd9ceeb3e42",
     "locked": true,
     "schema_version": 3,
     "solution": false,
     "task": false
    }
   },
   "outputs": [],
   "source": [
    "def persona_clustering(graph):\n",
    "    communities = []\n",
    "    for cc in nx.connected_components(graph):\n",
    "        communities.append([node[0] for node in cc])\n",
    "    return communities"
   ]
  },
  {
   "cell_type": "code",
   "execution_count": null,
   "id": "7dffc3ab",
   "metadata": {},
   "outputs": [],
   "source": [
    "plt.figure(figsize=(15, 5))\n",
    "pos = nx.kamada_kawai_layout(G)\n",
    "c_colors = ['tab:orange', 'tab:blue', 'tab:green']\n",
    "for i, c in enumerate(ego_splitting(G)):\n",
    "    plt.subplot(1, 3, i+1)\n",
    "    color = []\n",
    "    for node in G.nodes:\n",
    "        color.append(c_colors[i] if node in c else 'white')\n",
    "    nx.draw_networkx(G, pos=pos, node_color=color, \n",
    "                     edgecolors='black', node_size=400)\n",
    "    plt.axis('off')\n",
    "    plt.title('Community {}'.format(i+1))"
   ]
  },
  {
   "cell_type": "code",
   "execution_count": null,
   "id": "607c0ec9",
   "metadata": {},
   "outputs": [],
   "source": []
  }
 ],
 "metadata": {
  "kernelspec": {
   "display_name": "Python 3",
   "language": "python",
   "name": "python3"
  },
  "language_info": {
   "codemirror_mode": {
    "name": "ipython",
    "version": 3
   },
   "file_extension": ".py",
   "mimetype": "text/x-python",
   "name": "python",
   "nbconvert_exporter": "python",
   "pygments_lexer": "ipython3",
   "version": "3.7.4"
  }
 },
 "nbformat": 4,
 "nbformat_minor": 5
}
